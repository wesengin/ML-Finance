{
  "nbformat": 4,
  "nbformat_minor": 0,
  "metadata": {
    "colab": {
      "name": "Visualização e análise dos dados - bases de dados.ipynb",
      "provenance": [],
      "collapsed_sections": [],
      "toc_visible": true,
      "authorship_tag": "ABX9TyPKYmTjj7/Ab9oh6ts65YxN",
      "include_colab_link": true
    },
    "kernelspec": {
      "name": "python3",
      "display_name": "Python 3"
    },
    "language_info": {
      "name": "python"
    }
  },
  "cells": [
    {
      "cell_type": "markdown",
      "metadata": {
        "id": "view-in-github",
        "colab_type": "text"
      },
      "source": [
        "<a href=\"https://colab.research.google.com/github/wesengin/ML-Finance/blob/main/Visualiza%C3%A7%C3%A3o_e_an%C3%A1lise_dos_dados_bases_de_dados.ipynb\" target=\"_parent\"><img src=\"https://colab.research.google.com/assets/colab-badge.svg\" alt=\"Open In Colab\"/></a>"
      ]
    },
    {
      "cell_type": "markdown",
      "metadata": {
        "id": "kF_FveV5rolF"
      },
      "source": [
        "# Bibliotecas"
      ]
    },
    {
      "cell_type": "code",
      "metadata": {
        "colab": {
          "base_uri": "https://localhost:8080/"
        },
        "id": "Twnk25JUrY1B",
        "outputId": "088ee0c8-7f1e-44ae-d0c9-af3872b5f664"
      },
      "source": [
        "# a biblioteca yfinance não vem por default no Colab, então instalar antes\n",
        "!pip install -q yfinance  "
      ],
      "execution_count": null,
      "outputs": [
        {
          "output_type": "stream",
          "name": "stdout",
          "text": [
            "\u001b[K     |████████████████████████████████| 6.3 MB 9.4 MB/s \n",
            "\u001b[?25h  Building wheel for yfinance (setup.py) ... \u001b[?25l\u001b[?25hdone\n"
          ]
        }
      ]
    },
    {
      "cell_type": "code",
      "metadata": {
        "id": "BMz3zqpHqyRT"
      },
      "source": [
        "import pandas as pd # para trabalhar com dataframes, que são como tabelas em memória onde podemos acessar as informações e gerar estatísticas, pd é um nome de atalho\n",
        "import numpy as np # biblioteca científica que possuí funções matemáticas, média, desvio padrão, manipulação de matrizes, vetores...\n",
        "from pandas_datareader import data # função para carregar dados financeiros online, uma das maneiras mais utilizadas no python para buscar dados da Internet\n",
        "import matplotlib.pyplot as plt # visualização, gráficos\n",
        "import seaborn as sns # gráficos mais avançados com uma visualização mais atraente \n",
        "import plotly.express as px # gerar gráficos interativos \n",
        "import yfinance as yf # carregar dados online do yahoo finance"
      ],
      "execution_count": null,
      "outputs": []
    },
    {
      "cell_type": "markdown",
      "metadata": {
        "id": "06fMG6Q2rq7a"
      },
      "source": [
        "# Ações"
      ]
    },
    {
      "cell_type": "markdown",
      "metadata": {
        "id": "0iRcdQGvaTOZ"
      },
      "source": [
        "## Forma de uso"
      ]
    },
    {
      "cell_type": "markdown",
      "metadata": {
        "id": "rcWYcYOBrwDY"
      },
      "source": [
        "https://br.financas.yahoo.com/"
      ]
    },
    {
      "cell_type": "code",
      "metadata": {
        "colab": {
          "base_uri": "https://localhost:8080/"
        },
        "id": "poH97O3CrZwa",
        "outputId": "499f486f-e952-44f4-88d8-d48037e613c6"
      },
      "source": [
        "gol_df = yf.download(\"GOLL4.SA\", start='2015-01-01') # ações GOLL4 de 2015 até a data atual"
      ],
      "execution_count": null,
      "outputs": [
        {
          "output_type": "stream",
          "name": "stdout",
          "text": [
            "\r[*********************100%***********************]  1 of 1 completed\n"
          ]
        }
      ]
    },
    {
      "cell_type": "code",
      "metadata": {
        "colab": {
          "base_uri": "https://localhost:8080/",
          "height": 454
        },
        "id": "2YhWSIEUrjWR",
        "outputId": "b5a65cb8-446d-4c89-cc30-bda1d7b68135"
      },
      "source": [
        "gol_df\n",
        "\n",
        "# open: valor de abertura quando a bolsa de valores abriu\n",
        "# close: como fechou no final do dia \n",
        "# high e low: maior e menor valor no dia\n",
        "# adj close: preço ajustado, preço real de quanto a ação vale no final do dia, e pode levar em consideração dividendos também... pode ter também desdobramento de ações\n",
        "\n",
        "# Dividendos: são uma parte dos lucros de uma empresa que são distribuídos aos seus acionistas como forma de remuneração. \n",
        "# Desdobramento: consiste em dividir as ações existentes, sem alterar o valor do investimento, também conhecido como \"Split\"."
      ],
      "execution_count": null,
      "outputs": [
        {
          "output_type": "execute_result",
          "data": {
            "text/html": [
              "<div>\n",
              "<style scoped>\n",
              "    .dataframe tbody tr th:only-of-type {\n",
              "        vertical-align: middle;\n",
              "    }\n",
              "\n",
              "    .dataframe tbody tr th {\n",
              "        vertical-align: top;\n",
              "    }\n",
              "\n",
              "    .dataframe thead th {\n",
              "        text-align: right;\n",
              "    }\n",
              "</style>\n",
              "<table border=\"1\" class=\"dataframe\">\n",
              "  <thead>\n",
              "    <tr style=\"text-align: right;\">\n",
              "      <th></th>\n",
              "      <th>Open</th>\n",
              "      <th>High</th>\n",
              "      <th>Low</th>\n",
              "      <th>Close</th>\n",
              "      <th>Adj Close</th>\n",
              "      <th>Volume</th>\n",
              "    </tr>\n",
              "    <tr>\n",
              "      <th>Date</th>\n",
              "      <th></th>\n",
              "      <th></th>\n",
              "      <th></th>\n",
              "      <th></th>\n",
              "      <th></th>\n",
              "      <th></th>\n",
              "    </tr>\n",
              "  </thead>\n",
              "  <tbody>\n",
              "    <tr>\n",
              "      <th>2015-01-02</th>\n",
              "      <td>14.970000</td>\n",
              "      <td>15.200000</td>\n",
              "      <td>14.610000</td>\n",
              "      <td>14.990000</td>\n",
              "      <td>14.990000</td>\n",
              "      <td>901900</td>\n",
              "    </tr>\n",
              "    <tr>\n",
              "      <th>2015-01-05</th>\n",
              "      <td>14.900000</td>\n",
              "      <td>15.010000</td>\n",
              "      <td>14.410000</td>\n",
              "      <td>14.850000</td>\n",
              "      <td>14.850000</td>\n",
              "      <td>1272500</td>\n",
              "    </tr>\n",
              "    <tr>\n",
              "      <th>2015-01-06</th>\n",
              "      <td>14.750000</td>\n",
              "      <td>15.210000</td>\n",
              "      <td>14.650000</td>\n",
              "      <td>15.210000</td>\n",
              "      <td>15.210000</td>\n",
              "      <td>2183500</td>\n",
              "    </tr>\n",
              "    <tr>\n",
              "      <th>2015-01-07</th>\n",
              "      <td>15.150000</td>\n",
              "      <td>15.330000</td>\n",
              "      <td>14.550000</td>\n",
              "      <td>14.550000</td>\n",
              "      <td>14.550000</td>\n",
              "      <td>1846900</td>\n",
              "    </tr>\n",
              "    <tr>\n",
              "      <th>2015-01-08</th>\n",
              "      <td>14.410000</td>\n",
              "      <td>14.650000</td>\n",
              "      <td>14.200000</td>\n",
              "      <td>14.270000</td>\n",
              "      <td>14.270000</td>\n",
              "      <td>1569500</td>\n",
              "    </tr>\n",
              "    <tr>\n",
              "      <th>...</th>\n",
              "      <td>...</td>\n",
              "      <td>...</td>\n",
              "      <td>...</td>\n",
              "      <td>...</td>\n",
              "      <td>...</td>\n",
              "      <td>...</td>\n",
              "    </tr>\n",
              "    <tr>\n",
              "      <th>2021-10-08</th>\n",
              "      <td>20.170000</td>\n",
              "      <td>20.770000</td>\n",
              "      <td>20.030001</td>\n",
              "      <td>20.080000</td>\n",
              "      <td>20.080000</td>\n",
              "      <td>4996100</td>\n",
              "    </tr>\n",
              "    <tr>\n",
              "      <th>2021-10-11</th>\n",
              "      <td>20.150000</td>\n",
              "      <td>20.260000</td>\n",
              "      <td>19.600000</td>\n",
              "      <td>20.010000</td>\n",
              "      <td>20.010000</td>\n",
              "      <td>5326300</td>\n",
              "    </tr>\n",
              "    <tr>\n",
              "      <th>2021-10-13</th>\n",
              "      <td>20.030001</td>\n",
              "      <td>20.320000</td>\n",
              "      <td>19.870001</td>\n",
              "      <td>20.010000</td>\n",
              "      <td>20.010000</td>\n",
              "      <td>4429800</td>\n",
              "    </tr>\n",
              "    <tr>\n",
              "      <th>2021-10-14</th>\n",
              "      <td>20.180000</td>\n",
              "      <td>20.549999</td>\n",
              "      <td>19.950001</td>\n",
              "      <td>20.059999</td>\n",
              "      <td>20.059999</td>\n",
              "      <td>3460800</td>\n",
              "    </tr>\n",
              "    <tr>\n",
              "      <th>2021-10-15</th>\n",
              "      <td>20.260000</td>\n",
              "      <td>20.820000</td>\n",
              "      <td>20.020000</td>\n",
              "      <td>20.600000</td>\n",
              "      <td>20.600000</td>\n",
              "      <td>3445200</td>\n",
              "    </tr>\n",
              "  </tbody>\n",
              "</table>\n",
              "<p>1682 rows × 6 columns</p>\n",
              "</div>"
            ],
            "text/plain": [
              "                 Open       High        Low      Close  Adj Close   Volume\n",
              "Date                                                                      \n",
              "2015-01-02  14.970000  15.200000  14.610000  14.990000  14.990000   901900\n",
              "2015-01-05  14.900000  15.010000  14.410000  14.850000  14.850000  1272500\n",
              "2015-01-06  14.750000  15.210000  14.650000  15.210000  15.210000  2183500\n",
              "2015-01-07  15.150000  15.330000  14.550000  14.550000  14.550000  1846900\n",
              "2015-01-08  14.410000  14.650000  14.200000  14.270000  14.270000  1569500\n",
              "...               ...        ...        ...        ...        ...      ...\n",
              "2021-10-08  20.170000  20.770000  20.030001  20.080000  20.080000  4996100\n",
              "2021-10-11  20.150000  20.260000  19.600000  20.010000  20.010000  5326300\n",
              "2021-10-13  20.030001  20.320000  19.870001  20.010000  20.010000  4429800\n",
              "2021-10-14  20.180000  20.549999  19.950001  20.059999  20.059999  3460800\n",
              "2021-10-15  20.260000  20.820000  20.020000  20.600000  20.600000  3445200\n",
              "\n",
              "[1682 rows x 6 columns]"
            ]
          },
          "metadata": {},
          "execution_count": 4
        }
      ]
    },
    {
      "cell_type": "code",
      "metadata": {
        "id": "VwDyp0YuZE-q"
      },
      "source": [
        "# bolsa de valores não opera em finais de semana e feriados"
      ],
      "execution_count": null,
      "outputs": []
    },
    {
      "cell_type": "code",
      "metadata": {
        "colab": {
          "base_uri": "https://localhost:8080/"
        },
        "id": "P1DmyW-ZsciK",
        "outputId": "786c1be7-46b8-4622-e206-c7c38db6e169"
      },
      "source": [
        "# informações\n",
        "gol_df.info()"
      ],
      "execution_count": null,
      "outputs": [
        {
          "output_type": "stream",
          "name": "stdout",
          "text": [
            "<class 'pandas.core.frame.DataFrame'>\n",
            "DatetimeIndex: 1682 entries, 2015-01-02 to 2021-10-15\n",
            "Data columns (total 6 columns):\n",
            " #   Column     Non-Null Count  Dtype  \n",
            "---  ------     --------------  -----  \n",
            " 0   Open       1682 non-null   float64\n",
            " 1   High       1682 non-null   float64\n",
            " 2   Low        1682 non-null   float64\n",
            " 3   Close      1682 non-null   float64\n",
            " 4   Adj Close  1682 non-null   float64\n",
            " 5   Volume     1682 non-null   int64  \n",
            "dtypes: float64(5), int64(1)\n",
            "memory usage: 92.0 KB\n"
          ]
        }
      ]
    },
    {
      "cell_type": "code",
      "metadata": {
        "colab": {
          "base_uri": "https://localhost:8080/",
          "height": 299
        },
        "id": "ATSGmfvTZR6B",
        "outputId": "c4b9eed7-1092-4c42-fa8c-f6d3bee2369d"
      },
      "source": [
        "# estatísticas \n",
        "gol_df.describe()\n",
        "\n",
        "# count: total registros\n",
        "# mean: média\n",
        "# std: desvio padrão (variação pra cima ou pra baixa em relação a média)\n",
        "# min: valor mínimo\n",
        "# 25%: primeiro quartil\n",
        "# 50%: mediana / segundo quartil\n",
        "# 75%: terceiro quartil\n",
        "# max: valor máximo"
      ],
      "execution_count": null,
      "outputs": [
        {
          "output_type": "execute_result",
          "data": {
            "text/html": [
              "<div>\n",
              "<style scoped>\n",
              "    .dataframe tbody tr th:only-of-type {\n",
              "        vertical-align: middle;\n",
              "    }\n",
              "\n",
              "    .dataframe tbody tr th {\n",
              "        vertical-align: top;\n",
              "    }\n",
              "\n",
              "    .dataframe thead th {\n",
              "        text-align: right;\n",
              "    }\n",
              "</style>\n",
              "<table border=\"1\" class=\"dataframe\">\n",
              "  <thead>\n",
              "    <tr style=\"text-align: right;\">\n",
              "      <th></th>\n",
              "      <th>Open</th>\n",
              "      <th>High</th>\n",
              "      <th>Low</th>\n",
              "      <th>Close</th>\n",
              "      <th>Adj Close</th>\n",
              "      <th>Volume</th>\n",
              "    </tr>\n",
              "  </thead>\n",
              "  <tbody>\n",
              "    <tr>\n",
              "      <th>count</th>\n",
              "      <td>1682.000000</td>\n",
              "      <td>1682.000000</td>\n",
              "      <td>1682.000000</td>\n",
              "      <td>1682.000000</td>\n",
              "      <td>1682.000000</td>\n",
              "      <td>1.682000e+03</td>\n",
              "    </tr>\n",
              "    <tr>\n",
              "      <th>mean</th>\n",
              "      <td>15.738383</td>\n",
              "      <td>16.121153</td>\n",
              "      <td>15.335809</td>\n",
              "      <td>15.702622</td>\n",
              "      <td>15.702622</td>\n",
              "      <td>4.985195e+06</td>\n",
              "    </tr>\n",
              "    <tr>\n",
              "      <th>std</th>\n",
              "      <td>9.950420</td>\n",
              "      <td>10.134438</td>\n",
              "      <td>9.760751</td>\n",
              "      <td>9.945127</td>\n",
              "      <td>9.945127</td>\n",
              "      <td>4.798933e+06</td>\n",
              "    </tr>\n",
              "    <tr>\n",
              "      <th>min</th>\n",
              "      <td>1.160000</td>\n",
              "      <td>1.180000</td>\n",
              "      <td>1.130000</td>\n",
              "      <td>1.160000</td>\n",
              "      <td>1.160000</td>\n",
              "      <td>0.000000e+00</td>\n",
              "    </tr>\n",
              "    <tr>\n",
              "      <th>25%</th>\n",
              "      <td>7.650000</td>\n",
              "      <td>7.780000</td>\n",
              "      <td>7.460000</td>\n",
              "      <td>7.630000</td>\n",
              "      <td>7.630000</td>\n",
              "      <td>1.936750e+06</td>\n",
              "    </tr>\n",
              "    <tr>\n",
              "      <th>50%</th>\n",
              "      <td>14.000000</td>\n",
              "      <td>14.450000</td>\n",
              "      <td>13.665000</td>\n",
              "      <td>14.045000</td>\n",
              "      <td>14.045000</td>\n",
              "      <td>3.398150e+06</td>\n",
              "    </tr>\n",
              "    <tr>\n",
              "      <th>75%</th>\n",
              "      <td>22.572500</td>\n",
              "      <td>23.202499</td>\n",
              "      <td>22.049999</td>\n",
              "      <td>22.622499</td>\n",
              "      <td>22.622499</td>\n",
              "      <td>6.325175e+06</td>\n",
              "    </tr>\n",
              "    <tr>\n",
              "      <th>max</th>\n",
              "      <td>43.669998</td>\n",
              "      <td>44.619999</td>\n",
              "      <td>41.310001</td>\n",
              "      <td>43.790001</td>\n",
              "      <td>43.790001</td>\n",
              "      <td>4.368050e+07</td>\n",
              "    </tr>\n",
              "  </tbody>\n",
              "</table>\n",
              "</div>"
            ],
            "text/plain": [
              "              Open         High  ...    Adj Close        Volume\n",
              "count  1682.000000  1682.000000  ...  1682.000000  1.682000e+03\n",
              "mean     15.738383    16.121153  ...    15.702622  4.985195e+06\n",
              "std       9.950420    10.134438  ...     9.945127  4.798933e+06\n",
              "min       1.160000     1.180000  ...     1.160000  0.000000e+00\n",
              "25%       7.650000     7.780000  ...     7.630000  1.936750e+06\n",
              "50%      14.000000    14.450000  ...    14.045000  3.398150e+06\n",
              "75%      22.572500    23.202499  ...    22.622499  6.325175e+06\n",
              "max      43.669998    44.619999  ...    43.790001  4.368050e+07\n",
              "\n",
              "[8 rows x 6 columns]"
            ]
          },
          "metadata": {},
          "execution_count": 6
        }
      ]
    },
    {
      "cell_type": "code",
      "metadata": {
        "colab": {
          "base_uri": "https://localhost:8080/",
          "height": 112
        },
        "id": "Bue-E0IUZXkr",
        "outputId": "bfbb2a4f-d710-45d0-afeb-5de3273c5935"
      },
      "source": [
        "# achar a data de quando teve o valor max no Close\n",
        "gol_df[gol_df['Close'] == gol_df['Close'].max(axis = 0)]"
      ],
      "execution_count": null,
      "outputs": [
        {
          "output_type": "execute_result",
          "data": {
            "text/html": [
              "<div>\n",
              "<style scoped>\n",
              "    .dataframe tbody tr th:only-of-type {\n",
              "        vertical-align: middle;\n",
              "    }\n",
              "\n",
              "    .dataframe tbody tr th {\n",
              "        vertical-align: top;\n",
              "    }\n",
              "\n",
              "    .dataframe thead th {\n",
              "        text-align: right;\n",
              "    }\n",
              "</style>\n",
              "<table border=\"1\" class=\"dataframe\">\n",
              "  <thead>\n",
              "    <tr style=\"text-align: right;\">\n",
              "      <th></th>\n",
              "      <th>Open</th>\n",
              "      <th>High</th>\n",
              "      <th>Low</th>\n",
              "      <th>Close</th>\n",
              "      <th>Adj Close</th>\n",
              "      <th>Volume</th>\n",
              "    </tr>\n",
              "    <tr>\n",
              "      <th>Date</th>\n",
              "      <th></th>\n",
              "      <th></th>\n",
              "      <th></th>\n",
              "      <th></th>\n",
              "      <th></th>\n",
              "      <th></th>\n",
              "    </tr>\n",
              "  </thead>\n",
              "  <tbody>\n",
              "    <tr>\n",
              "      <th>2019-08-01</th>\n",
              "      <td>41.25</td>\n",
              "      <td>44.619999</td>\n",
              "      <td>41.25</td>\n",
              "      <td>43.790001</td>\n",
              "      <td>43.790001</td>\n",
              "      <td>6664200</td>\n",
              "    </tr>\n",
              "  </tbody>\n",
              "</table>\n",
              "</div>"
            ],
            "text/plain": [
              "             Open       High    Low      Close  Adj Close   Volume\n",
              "Date                                                              \n",
              "2019-08-01  41.25  44.619999  41.25  43.790001  43.790001  6664200"
            ]
          },
          "metadata": {},
          "execution_count": 24
        }
      ]
    },
    {
      "cell_type": "code",
      "metadata": {
        "colab": {
          "base_uri": "https://localhost:8080/",
          "height": 112
        },
        "id": "yJDwTTaVZZTv",
        "outputId": "9a5ed3a6-b0eb-4bdd-f9b9-667f202cd368"
      },
      "source": [
        "# valor min no Close\n",
        "gol_df[gol_df['Close'] == gol_df['Close'].min(axis = 0)]"
      ],
      "execution_count": null,
      "outputs": [
        {
          "output_type": "execute_result",
          "data": {
            "text/html": [
              "<div>\n",
              "<style scoped>\n",
              "    .dataframe tbody tr th:only-of-type {\n",
              "        vertical-align: middle;\n",
              "    }\n",
              "\n",
              "    .dataframe tbody tr th {\n",
              "        vertical-align: top;\n",
              "    }\n",
              "\n",
              "    .dataframe thead th {\n",
              "        text-align: right;\n",
              "    }\n",
              "</style>\n",
              "<table border=\"1\" class=\"dataframe\">\n",
              "  <thead>\n",
              "    <tr style=\"text-align: right;\">\n",
              "      <th></th>\n",
              "      <th>Open</th>\n",
              "      <th>High</th>\n",
              "      <th>Low</th>\n",
              "      <th>Close</th>\n",
              "      <th>Adj Close</th>\n",
              "      <th>Volume</th>\n",
              "    </tr>\n",
              "    <tr>\n",
              "      <th>Date</th>\n",
              "      <th></th>\n",
              "      <th></th>\n",
              "      <th></th>\n",
              "      <th></th>\n",
              "      <th></th>\n",
              "      <th></th>\n",
              "    </tr>\n",
              "  </thead>\n",
              "  <tbody>\n",
              "    <tr>\n",
              "      <th>2016-01-22</th>\n",
              "      <td>1.2</td>\n",
              "      <td>1.26</td>\n",
              "      <td>1.14</td>\n",
              "      <td>1.16</td>\n",
              "      <td>1.16</td>\n",
              "      <td>3830600</td>\n",
              "    </tr>\n",
              "  </tbody>\n",
              "</table>\n",
              "</div>"
            ],
            "text/plain": [
              "            Open  High   Low  Close  Adj Close   Volume\n",
              "Date                                                   \n",
              "2016-01-22   1.2  1.26  1.14   1.16       1.16  3830600"
            ]
          },
          "metadata": {},
          "execution_count": 25
        }
      ]
    },
    {
      "cell_type": "code",
      "metadata": {
        "id": "osOkRv2hZqVX"
      },
      "source": [
        "# salvar essa base de dados em um csv\n",
        "\n",
        "gol_df.to_csv('gol.csv')"
      ],
      "execution_count": null,
      "outputs": []
    },
    {
      "cell_type": "code",
      "metadata": {
        "colab": {
          "base_uri": "https://localhost:8080/",
          "height": 454
        },
        "id": "C5jjtA6mZtWA",
        "outputId": "cb6f4669-ddf0-46c4-b841-5706b6dd8bb9"
      },
      "source": [
        "# ler o csv salvo para dataframe\n",
        "\n",
        "gol_df2 = pd.read_csv('/content/gol.csv', index_col=0)\n",
        "gol_df2"
      ],
      "execution_count": null,
      "outputs": [
        {
          "output_type": "execute_result",
          "data": {
            "text/html": [
              "<div>\n",
              "<style scoped>\n",
              "    .dataframe tbody tr th:only-of-type {\n",
              "        vertical-align: middle;\n",
              "    }\n",
              "\n",
              "    .dataframe tbody tr th {\n",
              "        vertical-align: top;\n",
              "    }\n",
              "\n",
              "    .dataframe thead th {\n",
              "        text-align: right;\n",
              "    }\n",
              "</style>\n",
              "<table border=\"1\" class=\"dataframe\">\n",
              "  <thead>\n",
              "    <tr style=\"text-align: right;\">\n",
              "      <th></th>\n",
              "      <th>Open</th>\n",
              "      <th>High</th>\n",
              "      <th>Low</th>\n",
              "      <th>Close</th>\n",
              "      <th>Adj Close</th>\n",
              "      <th>Volume</th>\n",
              "    </tr>\n",
              "    <tr>\n",
              "      <th>Date</th>\n",
              "      <th></th>\n",
              "      <th></th>\n",
              "      <th></th>\n",
              "      <th></th>\n",
              "      <th></th>\n",
              "      <th></th>\n",
              "    </tr>\n",
              "  </thead>\n",
              "  <tbody>\n",
              "    <tr>\n",
              "      <th>2015-01-02</th>\n",
              "      <td>14.970000</td>\n",
              "      <td>15.200000</td>\n",
              "      <td>14.610000</td>\n",
              "      <td>14.990000</td>\n",
              "      <td>14.990000</td>\n",
              "      <td>901900</td>\n",
              "    </tr>\n",
              "    <tr>\n",
              "      <th>2015-01-05</th>\n",
              "      <td>14.900000</td>\n",
              "      <td>15.010000</td>\n",
              "      <td>14.410000</td>\n",
              "      <td>14.850000</td>\n",
              "      <td>14.850000</td>\n",
              "      <td>1272500</td>\n",
              "    </tr>\n",
              "    <tr>\n",
              "      <th>2015-01-06</th>\n",
              "      <td>14.750000</td>\n",
              "      <td>15.210000</td>\n",
              "      <td>14.650000</td>\n",
              "      <td>15.210000</td>\n",
              "      <td>15.210000</td>\n",
              "      <td>2183500</td>\n",
              "    </tr>\n",
              "    <tr>\n",
              "      <th>2015-01-07</th>\n",
              "      <td>15.150000</td>\n",
              "      <td>15.330000</td>\n",
              "      <td>14.550000</td>\n",
              "      <td>14.550000</td>\n",
              "      <td>14.550000</td>\n",
              "      <td>1846900</td>\n",
              "    </tr>\n",
              "    <tr>\n",
              "      <th>2015-01-08</th>\n",
              "      <td>14.410000</td>\n",
              "      <td>14.650000</td>\n",
              "      <td>14.200000</td>\n",
              "      <td>14.270000</td>\n",
              "      <td>14.270000</td>\n",
              "      <td>1569500</td>\n",
              "    </tr>\n",
              "    <tr>\n",
              "      <th>...</th>\n",
              "      <td>...</td>\n",
              "      <td>...</td>\n",
              "      <td>...</td>\n",
              "      <td>...</td>\n",
              "      <td>...</td>\n",
              "      <td>...</td>\n",
              "    </tr>\n",
              "    <tr>\n",
              "      <th>2021-10-08</th>\n",
              "      <td>20.170000</td>\n",
              "      <td>20.770000</td>\n",
              "      <td>20.030001</td>\n",
              "      <td>20.080000</td>\n",
              "      <td>20.080000</td>\n",
              "      <td>4996100</td>\n",
              "    </tr>\n",
              "    <tr>\n",
              "      <th>2021-10-11</th>\n",
              "      <td>20.150000</td>\n",
              "      <td>20.260000</td>\n",
              "      <td>19.600000</td>\n",
              "      <td>20.010000</td>\n",
              "      <td>20.010000</td>\n",
              "      <td>5326300</td>\n",
              "    </tr>\n",
              "    <tr>\n",
              "      <th>2021-10-13</th>\n",
              "      <td>20.030001</td>\n",
              "      <td>20.320000</td>\n",
              "      <td>19.870001</td>\n",
              "      <td>20.010000</td>\n",
              "      <td>20.010000</td>\n",
              "      <td>4429800</td>\n",
              "    </tr>\n",
              "    <tr>\n",
              "      <th>2021-10-14</th>\n",
              "      <td>20.180000</td>\n",
              "      <td>20.549999</td>\n",
              "      <td>19.950001</td>\n",
              "      <td>20.059999</td>\n",
              "      <td>20.059999</td>\n",
              "      <td>3460800</td>\n",
              "    </tr>\n",
              "    <tr>\n",
              "      <th>2021-10-15</th>\n",
              "      <td>20.260000</td>\n",
              "      <td>20.820000</td>\n",
              "      <td>20.020000</td>\n",
              "      <td>20.600000</td>\n",
              "      <td>20.600000</td>\n",
              "      <td>3445200</td>\n",
              "    </tr>\n",
              "  </tbody>\n",
              "</table>\n",
              "<p>1682 rows × 6 columns</p>\n",
              "</div>"
            ],
            "text/plain": [
              "                 Open       High        Low      Close  Adj Close   Volume\n",
              "Date                                                                      \n",
              "2015-01-02  14.970000  15.200000  14.610000  14.990000  14.990000   901900\n",
              "2015-01-05  14.900000  15.010000  14.410000  14.850000  14.850000  1272500\n",
              "2015-01-06  14.750000  15.210000  14.650000  15.210000  15.210000  2183500\n",
              "2015-01-07  15.150000  15.330000  14.550000  14.550000  14.550000  1846900\n",
              "2015-01-08  14.410000  14.650000  14.200000  14.270000  14.270000  1569500\n",
              "...               ...        ...        ...        ...        ...      ...\n",
              "2021-10-08  20.170000  20.770000  20.030001  20.080000  20.080000  4996100\n",
              "2021-10-11  20.150000  20.260000  19.600000  20.010000  20.010000  5326300\n",
              "2021-10-13  20.030001  20.320000  19.870001  20.010000  20.010000  4429800\n",
              "2021-10-14  20.180000  20.549999  19.950001  20.059999  20.059999  3460800\n",
              "2021-10-15  20.260000  20.820000  20.020000  20.600000  20.600000  3445200\n",
              "\n",
              "[1682 rows x 6 columns]"
            ]
          },
          "metadata": {},
          "execution_count": 27
        }
      ]
    },
    {
      "cell_type": "markdown",
      "metadata": {
        "id": "WIuT1T1dZz88"
      },
      "source": [
        "## Criando nossa base"
      ]
    },
    {
      "cell_type": "code",
      "metadata": {
        "id": "0S-PknYtZ5_6"
      },
      "source": [
        ""
      ],
      "execution_count": null,
      "outputs": []
    },
    {
      "cell_type": "code",
      "metadata": {
        "id": "uFF3afozZ6B0"
      },
      "source": [
        ""
      ],
      "execution_count": null,
      "outputs": []
    },
    {
      "cell_type": "markdown",
      "metadata": {
        "id": "mQ-4CH9NZ6ZP"
      },
      "source": [
        "## Visualizações"
      ]
    },
    {
      "cell_type": "code",
      "metadata": {
        "id": "a3FnYaZ_Z9H3"
      },
      "source": [
        ""
      ],
      "execution_count": null,
      "outputs": []
    },
    {
      "cell_type": "code",
      "metadata": {
        "id": "Q3YGT8UgZ9KH"
      },
      "source": [
        ""
      ],
      "execution_count": null,
      "outputs": []
    },
    {
      "cell_type": "markdown",
      "metadata": {
        "id": "OBp6CR5tad3a"
      },
      "source": [
        "# Características "
      ]
    },
    {
      "cell_type": "code",
      "metadata": {
        "id": "IPychWS_afgy"
      },
      "source": [
        ""
      ],
      "execution_count": null,
      "outputs": []
    },
    {
      "cell_type": "code",
      "metadata": {
        "id": "Fa5q22v3afi-"
      },
      "source": [
        ""
      ],
      "execution_count": null,
      "outputs": []
    },
    {
      "cell_type": "markdown",
      "metadata": {
        "id": "KKvs0i6LafoY"
      },
      "source": [
        "# Textos"
      ]
    },
    {
      "cell_type": "code",
      "metadata": {
        "id": "ElMUEqOrahbq"
      },
      "source": [
        ""
      ],
      "execution_count": null,
      "outputs": []
    },
    {
      "cell_type": "code",
      "metadata": {
        "id": "kg6CfWKQahd2"
      },
      "source": [
        ""
      ],
      "execution_count": null,
      "outputs": []
    }
  ]
}